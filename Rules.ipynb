{
 "cells": [
  {
   "cell_type": "code",
   "execution_count": 2,
   "metadata": {
    "collapsed": true
   },
   "outputs": [],
   "source": [
    "import pandas as pd\n",
    "import re"
   ]
  },
  {
   "cell_type": "code",
   "execution_count": 3,
   "metadata": {
    "collapsed": true
   },
   "outputs": [],
   "source": [
    "file = 'Rules.xlsx'\n",
    "\n",
    "rules = pd.read_excel(file)\n"
   ]
  },
  {
   "cell_type": "code",
   "execution_count": 6,
   "metadata": {},
   "outputs": [
    {
     "name": "stdout",
     "output_type": "stream",
     "text": [
      "['B7', 'B8', 'B13', 'B64', 'B65', 'B62', 'B75', 'B72', 'B71', 'B76', 'B77', 'B63', 'B18', 'B27', 'B35', 'B37', 'B38', 'B39', 'B60', 'B61', 'B40', 'B41', 'B42', 'B44', 'B45', 'B46', 'B47', 'B48', 'B49', 'B50', 'B51', 'B52', 'B53', 'B54', 'B55', 'B56', 'B57', 'B58', 'B59', 'B67', 'B73', 'B78', 'B81', 'B82']\n",
      "B*07:02\n",
      "B*08:01\n",
      "B*13:01\n",
      "B*14:01\n",
      "B*14:02\n",
      "B*15:01\n",
      "B*15:02\n",
      "B*15:03\n",
      "B*15:10\n",
      "B*15:12\n",
      "B*15:13\n",
      "B*15:16\n",
      "B*18:01\n",
      "B*27:05\n",
      "B*35:01\n",
      "B*37:01\n",
      "B*38:01\n",
      "B*39:01\n",
      "B*40:01\n",
      "B*40:02\n",
      "B*40:05\n",
      "B*41:01\n",
      "B*42:01\n",
      "B*44:02\n",
      "B*45:01\n",
      "B*46:01\n",
      "B*47:01\n",
      "B*48:01\n",
      "B*49:01\n",
      "B*50:01\n",
      "B*51:01\n",
      "B*52:01\n",
      "B*53:01\n",
      "B*54:01\n",
      "B*55:01\n",
      "B*56:01\n",
      "B*57:01\n",
      "B*58:01\n",
      "B*59:01\n",
      "B*67:01\n",
      "B*73:01\n",
      "B*78:01\n",
      "B*81:01\n",
      "B*82:01\n",
      "['B*07:02', 'B*08:01', 'B*13:01', 'B*14:01', 'B*14:02', 'B*15:01', 'B*15:02', 'B*15:03', 'B*15:10', 'B*15:12', 'B*15:13', 'B*15:16', 'B*18:01', 'B*27:05', 'B*35:01', 'B*37:01', 'B*38:01', 'B*39:01', 'B*40:01', 'B*40:02', 'B*40:05', 'B*41:01', 'B*42:01', 'B*44:02', 'B*45:01', 'B*46:01', 'B*47:01', 'B*48:01', 'B*49:01', 'B*50:01', 'B*51:01', 'B*52:01', 'B*53:01', 'B*54:01', 'B*55:01', 'B*56:01', 'B*57:01', 'B*58:01', 'B*59:01', 'B*67:01', 'B*73:01', 'B*78:01', 'B*81:01', 'B*82:01']\n"
     ]
    }
   ],
   "source": [
    "A_LR = rules.loc[:20,'A_LR'].tolist()\n",
    "A_HR = rules.loc[:20,'A_HR'].tolist()\n",
    "\n",
    "B_LR = rules.loc[:45,'B_LR'].tolist()\n",
    "B_HR = rules.loc[:45,'B_HR'].tolist()\n",
    "\n",
    "C_LR = rules.loc[:17,'C_LR'].tolist()\n",
    "C_HR = rules.loc[:17,'C_HR'].tolist()\n",
    "\n",
    "print (B_LR)\n",
    "\n",
    "for b in B_HR:\n",
    "    print (b)\n",
    "    \n",
    "print (B_HR)\n"
   ]
  },
  {
   "cell_type": "code",
   "execution_count": null,
   "metadata": {
    "collapsed": true
   },
   "outputs": [],
   "source": []
  }
 ],
 "metadata": {
  "kernelspec": {
   "display_name": "Python 3",
   "language": "python",
   "name": "python3"
  },
  "language_info": {
   "codemirror_mode": {
    "name": "ipython",
    "version": 3
   },
   "file_extension": ".py",
   "mimetype": "text/x-python",
   "name": "python",
   "nbconvert_exporter": "python",
   "pygments_lexer": "ipython3",
   "version": "3.6.3"
  }
 },
 "nbformat": 4,
 "nbformat_minor": 2
}
