{
 "cells": [
  {
   "cell_type": "code",
   "execution_count": null,
   "metadata": {
    "collapsed": true
   },
   "outputs": [],
   "source": [
    "\n",
    "def CwAssimilation(to_replace, general_rule, exc1,exc2=(None,None)):\n",
    "    for patient in ['Recip', 'Donor']:\n",
    "        for variable in ['First', 'Second']:\n",
    "            rows = data.shape[0]\n",
    "            for row in range(rows):\n",
    "                c_col = \"HR_\" + patient + '_'+ variable + '_C_Split'\n",
    "                b1_col = \"HR_\" + patient + '_First_B_Split'\n",
    "                b2_col = \"HR_\" + patient + '_Second_B_Split'\n",
    "            \n",
    "                c  = data.loc[row, c_col]\n",
    "                b1 = data.iloc[row][b1_col]\n",
    "                b2 = data.iloc[row][b2_col]\n",
    "\n",
    "                if pd.isnull(data.loc[row, c_col]):\n",
    "                    pass\n",
    "                elif c == to_replace and ((b1 ==  exc1[0]) or (b2 == exc1[0])):\n",
    "                    data.loc[row, c_col] = re.sub(to_replace, exc1[1], c)\n",
    "                elif c == to_replace and ((b1 == exc2[0]) or (b2 == exc2[0])):\n",
    "                    data.loc[row, c_col] = re.sub(to_replace,exc2[1], c)\n",
    "                else:\n",
    "                    data.loc[row, c_col] = re.sub(to_replace, general_rule, c)\n",
    "                    \n",
    "               "
   ]
  }
 ],
 "metadata": {
  "kernelspec": {
   "display_name": "Python 2",
   "language": "python",
   "name": "python2"
  },
  "language_info": {
   "codemirror_mode": {
    "name": "ipython",
    "version": 2
   },
   "file_extension": ".py",
   "mimetype": "text/x-python",
   "name": "python",
   "nbconvert_exporter": "python",
   "pygments_lexer": "ipython2",
   "version": "2.7.6"
  }
 },
 "nbformat": 4,
 "nbformat_minor": 0
}
