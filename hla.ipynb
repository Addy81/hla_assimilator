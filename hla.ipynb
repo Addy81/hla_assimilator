{
 "cells": [
  {
   "cell_type": "code",
   "execution_count": 13,
   "metadata": {
    "collapsed": true
   },
   "outputs": [],
   "source": [
    "#!/usr/bin/python\n",
    "#\n",
    "#\n",
    "#\n",
    "#\n",
    "# Adriana Toutoudaki (October 2018), contact: adriana.tou@gmail.com\n",
    "\n",
    "import pandas as pd\n",
    "import re\n",
    "import sys\n"
   ]
  },
  {
   "cell_type": "code",
   "execution_count": 14,
   "metadata": {
    "collapsed": true
   },
   "outputs": [],
   "source": [
    "#parse file into variable\n",
    "\n",
    "data_file = '/mnt/storage/home/toutoua/projects/tt/tt_test_copy.xlsx'\n",
    "rules_file = '/mnt/storage/home/toutoua/projects/tt/Rules.xlsx'\n",
    "\n",
    "data = pd.read_excel(data_file, \"Main data\")\n",
    "rules = pd.read_excel(rules_file)\n"
   ]
  },
  {
   "cell_type": "code",
   "execution_count": null,
   "metadata": {
    "collapsed": true
   },
   "outputs": [],
   "source": []
  },
  {
   "cell_type": "code",
   "execution_count": 15,
   "metadata": {
    "collapsed": true,
    "scrolled": false
   },
   "outputs": [],
   "source": [
    "#data['RA1']= data['Recip_First_A_Split'].fillna(data['Recip_First_A_Broad'])\n",
    "#data['RA2']= data['Recip_Second_A_Split'].fillna(data['Recip_Second_A_Broad'])\n",
    "\n",
    "#should I remove DP from list as broad column not populated\n",
    "# fill_split function iterates through the columns containing the HLA data and fills the split column \n",
    "#with the equivalent broad if empty\n",
    "\n",
    "def fill_split(patient):\n",
    "\tgene_list= [\"A\",\"B\",\"C\",\"DR\",\"DP\",\"DQ\"]\n",
    "\tfor gene in gene_list:\n",
    "\t\tfor column in data.columns:\n",
    "\t\t\tfirst_split = patient + '_First_' + gene + '_Split'\n",
    "\t\t\tfirst_broad = patient + '_First_' + gene + '_Broad'\n",
    "\t\t\tsecond_split = patient + '_Second_' + gene + '_Split'\n",
    "\t\t\tsecond_broad = patient + '_Second_' + gene + '_Broad'\n",
    "\n",
    "\t\t\t#Match column names above to select the correct one to populate\n",
    "\n",
    "\t\t\tx = re.match(first_split, column)\n",
    "\t\t\ty = re.match(second_split, column)\n",
    "\n",
    "\t\t\tif x:\n",
    "\t\t\t\tdata[first_split] = data[first_split].fillna(data[first_broad])\n",
    "\t\t\telif y:\n",
    "\t\t\t\tdata[second_split] = data[second_split].fillna(data[second_broad])\n",
    "\n",
    "#Run function for Recipient and Donor data\n",
    "fill_split('Recip')\n",
    "fill_split('Donor')\n",
    "\n",
    "#print (data.iloc[:,113:124])\n",
    "       "
   ]
  },
  {
   "cell_type": "code",
   "execution_count": 16,
   "metadata": {
    "collapsed": true
   },
   "outputs": [],
   "source": [
    "#print (data)\n",
    "#make rules lists\n",
    "\n",
    "#A_LR = rules.loc[:20,'A_LR'].tolist()\n",
    "#A_HR = rules.loc[:20,'A_HR'].tolist()\n",
    "A_LR = ['A1', 'A2', 'A3', 'A11', 'A23', 'A24', 'A25', 'A26', 'A29', 'A30', 'A31', 'A32', 'A33', 'A34', 'A36', 'A43', 'A66', 'A68', 'A69', 'A74', 'A80']\n",
    "A_HR = ['A*01:01', 'A*02:01', 'A*03:01', 'A*11:01', 'A*23:01', 'A*24:02', 'A*25:01', 'A*26:01', 'A*29:02', 'A*30:01', 'A*31:01', 'A*32:01', 'A*33:01', 'A*34:01', 'A*36:01', 'A*43:01', 'A*66:01', 'A*68:01', 'A*69:01', 'A*74:01', 'A*80:01']\n",
    "\n",
    "#B_LR = rules.loc[:45,'B_LR'].tolist()\n",
    "#B_HR = rules.loc[:45,'B_HR'].tolist()\n",
    "B_LR = ['B7', 'B8', 'B13', 'B64', 'B65', 'B62', 'B75', 'B72', 'B71', 'B76', 'B77', 'B63', 'B18', 'B27', 'B35', 'B37', 'B38', 'B39', 'B60', 'B61', 'B40', 'B41', 'B42', 'B44', 'B45', 'B46', 'B47', 'B48', 'B49', 'B50', 'B51', 'B52', 'B53', 'B54', 'B55', 'B56', 'B57', 'B58', 'B59', 'B67', 'B73', 'B78', 'B81', 'B82']\n",
    "B_HR = ['B*07:02', 'B*08:01', 'B*13:01', 'B*14:01', 'B*14:02', 'B*15:01', 'B*15:02', 'B*15:03', 'B*15:10', 'B*15:12', 'B*15:13', 'B*15:16', 'B*18:01', 'B*27:05', 'B*35:01', 'B*37:01', 'B*38:01', 'B*39:01', 'B*40:01', 'B*40:02', 'B*40:05', 'B*41:01', 'B*42:01', 'B*44:02', 'B*45:01', 'B*46:01', 'B*47:01', 'B*48:01', 'B*49:01', 'B*50:01', 'B*51:01', 'B*52:01', 'B*53:01', 'B*54:01', 'B*55:01', 'B*56:01', 'B*57:01', 'B*58:01', 'B*59:01', 'B*67:01', 'B*73:01', 'B*78:01', 'B*81:01', 'B*82:01']\n",
    "\n",
    "#C_LR = rules.loc[:17,'C_LR'].tolist()\n",
    "#C_HR = rules.loc[:17,'C_HR'].tolist()\n",
    "\n",
    "C_LR = [\"Cw1\",\"Cw2\",\"Cw9\",\"Cw5\",\"Cw6\",\"Cw12\",\"Cw14\",\"Cw15\",\"Cw17\",\"Cw18\",]\n",
    "C_HR = [\"C*01:02\",\"C*02:02\",\"C*03:03\",\"C*05:01\",\"C*06:02\",\"C*12:03\",\"C*14:02\",\"C*15:02\",\"C*17:01\",\"C*18:01\",]\n",
    "\n",
    "\n",
    "#replace according to import"
   ]
  },
  {
   "cell_type": "code",
   "execution_count": 17,
   "metadata": {
    "collapsed": true
   },
   "outputs": [],
   "source": [
    "#replace\n",
    "\n",
    "\n",
    "for column in data.columns:\n",
    "    column_check = re.search('_Split', column)\n",
    "    col_index = data.columns.get_loc(column)\n",
    "    new_column_name = \"HR_\" + column\n",
    "    if column_check:\n",
    "        data.insert((col_index + 1), new_column_name, data[column])\n",
    "        \n",
    "\n",
    "for column in data.columns:\n",
    "    column_check = re.match('HR_', column)\n",
    "    if column_check:    \n",
    "        data[column].replace(to_replace = A_LR, value = A_HR, inplace = True)\n",
    "        data[column].replace(to_replace = B_LR, value = B_HR, inplace = True)\n",
    "        data[column].replace(to_replace = C_LR, value = C_HR, inplace = True)\n",
    "    else:\n",
    "        pass\n",
    "\n",
    "        \n",
    "#data.replace(to_replace = A_LR, value = A_HR, inplace = True)\n",
    "#data.replace(to_replace = B_LR, value = B_HR, inplace = True)\n",
    "#data.replace(to_replace = C_LR, value = C_HR, inplace = True)\n",
    "\n",
    "\n",
    "#print (data['Recip_First_A_Split'])\n",
    "#print (data.iloc[:,113:124])\n",
    "\n"
   ]
  },
  {
   "cell_type": "code",
   "execution_count": 18,
   "metadata": {
    "collapsed": true
   },
   "outputs": [],
   "source": [
    "#save file into a different excel file\n",
    "\n",
    "writer = pd.ExcelWriter('file_loop_test.xlsx', engine = 'xlsxwriter')\n",
    "\n",
    "data.to_excel(writer,sheet_name='Main data')\n",
    "writer.save()"
   ]
  },
  {
   "cell_type": "code",
   "execution_count": null,
   "metadata": {
    "collapsed": true
   },
   "outputs": [],
   "source": []
  },
  {
   "cell_type": "code",
   "execution_count": null,
   "metadata": {
    "collapsed": true
   },
   "outputs": [],
   "source": []
  }
 ],
 "metadata": {
  "kernelspec": {
   "display_name": "Python 3",
   "language": "python",
   "name": "python3"
  },
  "language_info": {
   "codemirror_mode": {
    "name": "ipython",
    "version": 3
   },
   "file_extension": ".py",
   "mimetype": "text/x-python",
   "name": "python",
   "nbconvert_exporter": "python",
   "pygments_lexer": "ipython3",
   "version": "3.6.3"
  }
 },
 "nbformat": 4,
 "nbformat_minor": 2
}
